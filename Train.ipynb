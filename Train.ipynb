{
  "nbformat": 4,
  "nbformat_minor": 0,
  "metadata": {
    "colab": {
      "name": "Train.ipynb",
      "provenance": [],
      "authorship_tag": "ABX9TyNG5xjetviDEee3mexnf5vZ",
      "include_colab_link": true
    },
    "kernelspec": {
      "name": "python3",
      "display_name": "Python 3"
    }
  },
  "cells": [
    {
      "cell_type": "markdown",
      "metadata": {
        "id": "view-in-github",
        "colab_type": "text"
      },
      "source": [
        "<a href=\"https://colab.research.google.com/github/hvauchar/How-to-Win-a-Data-Science-Competition-Learn-from-Top-Kagglers-Final-project/blob/master/Train.ipynb\" target=\"_parent\"><img src=\"https://colab.research.google.com/assets/colab-badge.svg\" alt=\"Open In Colab\"/></a>"
      ]
    },
    {
      "cell_type": "code",
      "metadata": {
        "id": "7AexXHM1iISX",
        "colab_type": "code",
        "colab": {}
      },
      "source": [
        "import pandas as pd\n",
        "import numpy as np\n",
        "import matplotlib.pyplot as plt\n",
        "from IPython.core.interactiveshell import InteractiveShell\n",
        "from multiprocessing import Pool\n",
        "import xgboost as xgb\n",
        "from itertools import product\n",
        "import pickle\n",
        "import tensorflow as tf\n",
        "from tensorflow.keras import layers\n",
        "\n",
        "InteractiveShell.ast_node_interactivity = \"all\"\n",
        "%matplotlib inline"
      ],
      "execution_count": 0,
      "outputs": []
    },
    {
      "cell_type": "code",
      "metadata": {
        "id": "YDDc8kmwiJ36",
        "colab_type": "code",
        "colab": {}
      },
      "source": [
        "test = pd.read_csv('data/test.csv')\n",
        "X_train = pd.read_csv('data/X_train.csv')\n",
        "X_cv = pd.read_csv('data/X_cv.csv')\n",
        "X_test = pd.read_csv('data/X_test.csv')"
      ],
      "execution_count": 0,
      "outputs": []
    },
    {
      "cell_type": "code",
      "metadata": {
        "id": "xWR6yzySwNH6",
        "colab_type": "code",
        "colab": {
          "base_uri": "https://localhost:8080/",
          "height": 34
        },
        "outputId": "372b2410-bc6c-4e62-ca93-004c725fe658"
      },
      "source": [
        "X_test.shape,test.shape"
      ],
      "execution_count": 86,
      "outputs": [
        {
          "output_type": "execute_result",
          "data": {
            "text/plain": [
              "((428400, 16), (214200, 3))"
            ]
          },
          "metadata": {
            "tags": []
          },
          "execution_count": 86
        }
      ]
    },
    {
      "cell_type": "code",
      "metadata": {
        "id": "araNVQzZixtJ",
        "colab_type": "code",
        "colab": {}
      },
      "source": [
        "cols = [c for c in X_train.columns if c not in ['date_block_num', 'item_cnt_day','item_category_name']]\n",
        "\n",
        "x1 = X_train[cols]\n",
        "y1 = X_train['item_cnt_day']\n",
        "x2 = X_cv[cols]\n",
        "y2 = X_cv['item_cnt_day']"
      ],
      "execution_count": 0,
      "outputs": []
    },
    {
      "cell_type": "code",
      "metadata": {
        "id": "oTkQI_VYjF4y",
        "colab_type": "code",
        "colab": {
          "base_uri": "https://localhost:8080/",
          "height": 241
        },
        "outputId": "0005b17c-fc04-4d76-aefe-1c8d0ccd3a44"
      },
      "source": [
        "x1.head()\n",
        "x1.shape, y1.shape"
      ],
      "execution_count": 21,
      "outputs": [
        {
          "output_type": "execute_result",
          "data": {
            "text/html": [
              "<div>\n",
              "<style scoped>\n",
              "    .dataframe tbody tr th:only-of-type {\n",
              "        vertical-align: middle;\n",
              "    }\n",
              "\n",
              "    .dataframe tbody tr th {\n",
              "        vertical-align: top;\n",
              "    }\n",
              "\n",
              "    .dataframe thead th {\n",
              "        text-align: right;\n",
              "    }\n",
              "</style>\n",
              "<table border=\"1\" class=\"dataframe\">\n",
              "  <thead>\n",
              "    <tr style=\"text-align: right;\">\n",
              "      <th></th>\n",
              "      <th>shop_id</th>\n",
              "      <th>item_id</th>\n",
              "      <th>item_category_id</th>\n",
              "      <th>item_id_avg_item_price_lag_1</th>\n",
              "      <th>item_id_sum_item_cnt_day_lag_1</th>\n",
              "      <th>item_id_avg_item_cnt_day_lag_1</th>\n",
              "      <th>shop_id_avg_item_price_lag_1</th>\n",
              "      <th>shop_id_sum_item_cnt_day_lag_1</th>\n",
              "      <th>shop_id_avg_item_cnt_day_lag_1</th>\n",
              "      <th>item_category_id_avg_item_price_lag_1</th>\n",
              "      <th>item_category_id_sum_item_cnt_day_lag_1</th>\n",
              "      <th>item_category_id_avg_item_cnt_day_lag_1</th>\n",
              "      <th>item_cnt_day_lag_1</th>\n",
              "    </tr>\n",
              "  </thead>\n",
              "  <tbody>\n",
              "    <tr>\n",
              "      <th>0</th>\n",
              "      <td>27</td>\n",
              "      <td>15242</td>\n",
              "      <td>63</td>\n",
              "      <td>131.152174</td>\n",
              "      <td>9.0</td>\n",
              "      <td>0.195652</td>\n",
              "      <td>183.18482</td>\n",
              "      <td>5451.0</td>\n",
              "      <td>0.721891</td>\n",
              "      <td>108.913511</td>\n",
              "      <td>1295.0</td>\n",
              "      <td>0.230756</td>\n",
              "      <td>1.0</td>\n",
              "    </tr>\n",
              "    <tr>\n",
              "      <th>1</th>\n",
              "      <td>27</td>\n",
              "      <td>15200</td>\n",
              "      <td>69</td>\n",
              "      <td>10.847826</td>\n",
              "      <td>1.0</td>\n",
              "      <td>0.021739</td>\n",
              "      <td>183.18482</td>\n",
              "      <td>5451.0</td>\n",
              "      <td>0.721891</td>\n",
              "      <td>53.044176</td>\n",
              "      <td>1036.0</td>\n",
              "      <td>0.341238</td>\n",
              "      <td>0.0</td>\n",
              "    </tr>\n",
              "    <tr>\n",
              "      <th>2</th>\n",
              "      <td>27</td>\n",
              "      <td>15279</td>\n",
              "      <td>63</td>\n",
              "      <td>399.210507</td>\n",
              "      <td>48.0</td>\n",
              "      <td>1.043478</td>\n",
              "      <td>183.18482</td>\n",
              "      <td>5451.0</td>\n",
              "      <td>0.721891</td>\n",
              "      <td>108.913511</td>\n",
              "      <td>1295.0</td>\n",
              "      <td>0.230756</td>\n",
              "      <td>2.0</td>\n",
              "    </tr>\n",
              "    <tr>\n",
              "      <th>3</th>\n",
              "      <td>27</td>\n",
              "      <td>15202</td>\n",
              "      <td>69</td>\n",
              "      <td>10.847826</td>\n",
              "      <td>2.0</td>\n",
              "      <td>0.043478</td>\n",
              "      <td>183.18482</td>\n",
              "      <td>5451.0</td>\n",
              "      <td>0.721891</td>\n",
              "      <td>53.044176</td>\n",
              "      <td>1036.0</td>\n",
              "      <td>0.341238</td>\n",
              "      <td>0.0</td>\n",
              "    </tr>\n",
              "    <tr>\n",
              "      <th>4</th>\n",
              "      <td>27</td>\n",
              "      <td>14888</td>\n",
              "      <td>55</td>\n",
              "      <td>214.826087</td>\n",
              "      <td>21.0</td>\n",
              "      <td>0.456522</td>\n",
              "      <td>183.18482</td>\n",
              "      <td>5451.0</td>\n",
              "      <td>0.721891</td>\n",
              "      <td>42.582102</td>\n",
              "      <td>10216.0</td>\n",
              "      <td>0.204124</td>\n",
              "      <td>2.0</td>\n",
              "    </tr>\n",
              "  </tbody>\n",
              "</table>\n",
              "</div>"
            ],
            "text/plain": [
              "   shop_id  ...  item_cnt_day_lag_1\n",
              "0       27  ...                 1.0\n",
              "1       27  ...                 0.0\n",
              "2       27  ...                 2.0\n",
              "3       27  ...                 0.0\n",
              "4       27  ...                 2.0\n",
              "\n",
              "[5 rows x 13 columns]"
            ]
          },
          "metadata": {
            "tags": []
          },
          "execution_count": 21
        },
        {
          "output_type": "execute_result",
          "data": {
            "text/plain": [
              "((5839576, 13), (5839576,))"
            ]
          },
          "metadata": {
            "tags": []
          },
          "execution_count": 21
        }
      ]
    },
    {
      "cell_type": "code",
      "metadata": {
        "id": "NIhidFsgiY1g",
        "colab_type": "code",
        "colab": {}
      },
      "source": [
        "model = tf.keras.Sequential([\n",
        "  layers.Dense(14, activation='relu',input_shape=[len(x1.keys())]),\n",
        "  layers.Dense(128, activation='relu'),\n",
        "  layers.Dense(128, activation='relu'),\n",
        "  layers.Dense(1)\n",
        "])\n",
        "\n",
        "model.compile(optimizer='adam',\n",
        "              loss='mse',\n",
        "              metrics=['mae', 'mse'])"
      ],
      "execution_count": 0,
      "outputs": []
    },
    {
      "cell_type": "code",
      "metadata": {
        "id": "5w86EgLcjc6X",
        "colab_type": "code",
        "colab": {
          "base_uri": "https://localhost:8080/",
          "height": 170
        },
        "outputId": "66918660-ca4b-42fb-f0bd-a2921211afdd"
      },
      "source": [
        "t1 = tf.convert_to_tensor(x1[:9].values.astype(float))\n",
        "model.predict(t1)"
      ],
      "execution_count": 45,
      "outputs": [
        {
          "output_type": "execute_result",
          "data": {
            "text/plain": [
              "array([[-117.858765],\n",
              "       [-119.21745 ],\n",
              "       [-154.87543 ],\n",
              "       [-119.15349 ],\n",
              "       [  70.71213 ],\n",
              "       [-170.42786 ],\n",
              "       [-740.2134  ],\n",
              "       [ 160.99768 ],\n",
              "       [-213.28069 ]], dtype=float32)"
            ]
          },
          "metadata": {
            "tags": []
          },
          "execution_count": 45
        }
      ]
    },
    {
      "cell_type": "code",
      "metadata": {
        "id": "lx8e_OCyjSTF",
        "colab_type": "code",
        "colab": {
          "base_uri": "https://localhost:8080/",
          "height": 153
        },
        "outputId": "c3b6ad24-d8fd-4c5e-9446-9c0bf3085ce9"
      },
      "source": [
        "EPOCHS = 4 \n",
        "history = model.fit(x1, y1, epochs=EPOCHS,batch_size=64,validation_data=(x2,y2))"
      ],
      "execution_count": 48,
      "outputs": [
        {
          "output_type": "stream",
          "text": [
            "Epoch 1/4\n",
            "91244/91244 [==============================] - 156s 2ms/step - loss: 1.8888 - mae: 0.4889 - mse: 1.8888 - val_loss: 1.6506 - val_mae: 0.4054 - val_mse: 1.6509\n",
            "Epoch 2/4\n",
            "91244/91244 [==============================] - 157s 2ms/step - loss: 1.5290 - mae: 0.4237 - mse: 1.5290 - val_loss: 1.5056 - val_mae: 0.3665 - val_mse: 1.5059\n",
            "Epoch 3/4\n",
            "91244/91244 [==============================] - 159s 2ms/step - loss: 1.4176 - mae: 0.4108 - mse: 1.4176 - val_loss: 1.4775 - val_mae: 0.3894 - val_mse: 1.4778\n",
            "Epoch 4/4\n",
            "91244/91244 [==============================] - 154s 2ms/step - loss: 1.3974 - mae: 0.4049 - mse: 1.3975 - val_loss: 1.4559 - val_mae: 0.3850 - val_mse: 1.4562\n"
          ],
          "name": "stdout"
        }
      ]
    },
    {
      "cell_type": "code",
      "metadata": {
        "id": "PBxn_s4srslC",
        "colab_type": "code",
        "colab": {
          "base_uri": "https://localhost:8080/",
          "height": 349
        },
        "outputId": "09ccacfe-50f1-4ba0-c7d2-df0cb2ef1df6"
      },
      "source": [
        "print(history.history.keys())\n",
        "# summarize history for accuracy\n",
        "plt.plot(history.history['loss'])\n",
        "plt.plot(history.history['val_loss'])\n",
        "plt.plot(history.history['mae'])\n",
        "plt.plot(history.history['val_mae'])\n",
        "plt.plot(history.history['mse'])\n",
        "plt.plot(history.history['val_mse'])\n",
        "plt.title('model loss')\n",
        "# plt.ylabel('loss')\n",
        "# plt.xlabel('epoch')\n",
        "plt.legend(['train', 'val'], loc='upper left')\n",
        "plt.show()\n",
        "# summarize history for loss\n",
        "# plt.plot(history.history['loss'])\n",
        "# plt.plot(history.history['val_loss'])\n",
        "# plt.title('model loss')\n",
        "# plt.ylabel('loss')\n",
        "# plt.xlabel('epoch')\n",
        "# plt.legend(['train', 'test'], loc='upper left')\n",
        "# plt.show()"
      ],
      "execution_count": 60,
      "outputs": [
        {
          "output_type": "stream",
          "text": [
            "dict_keys(['loss', 'mae', 'mse', 'val_loss', 'val_mae', 'val_mse'])\n"
          ],
          "name": "stdout"
        },
        {
          "output_type": "execute_result",
          "data": {
            "text/plain": [
              "[<matplotlib.lines.Line2D at 0x7fe9be447f60>]"
            ]
          },
          "metadata": {
            "tags": []
          },
          "execution_count": 60
        },
        {
          "output_type": "execute_result",
          "data": {
            "text/plain": [
              "[<matplotlib.lines.Line2D at 0x7fe9be4a68d0>]"
            ]
          },
          "metadata": {
            "tags": []
          },
          "execution_count": 60
        },
        {
          "output_type": "execute_result",
          "data": {
            "text/plain": [
              "[<matplotlib.lines.Line2D at 0x7fe9be49ac88>]"
            ]
          },
          "metadata": {
            "tags": []
          },
          "execution_count": 60
        },
        {
          "output_type": "execute_result",
          "data": {
            "text/plain": [
              "[<matplotlib.lines.Line2D at 0x7fe9be4af048>]"
            ]
          },
          "metadata": {
            "tags": []
          },
          "execution_count": 60
        },
        {
          "output_type": "execute_result",
          "data": {
            "text/plain": [
              "[<matplotlib.lines.Line2D at 0x7fe9be452978>]"
            ]
          },
          "metadata": {
            "tags": []
          },
          "execution_count": 60
        },
        {
          "output_type": "execute_result",
          "data": {
            "text/plain": [
              "[<matplotlib.lines.Line2D at 0x7fe9be452da0>]"
            ]
          },
          "metadata": {
            "tags": []
          },
          "execution_count": 60
        },
        {
          "output_type": "execute_result",
          "data": {
            "text/plain": [
              "Text(0.5, 1.0, 'model loss')"
            ]
          },
          "metadata": {
            "tags": []
          },
          "execution_count": 60
        },
        {
          "output_type": "execute_result",
          "data": {
            "text/plain": [
              "<matplotlib.legend.Legend at 0x7fe9be447978>"
            ]
          },
          "metadata": {
            "tags": []
          },
          "execution_count": 60
        },
        {
          "output_type": "display_data",
          "data": {
            "image/png": "[encoded data removed]",
            "text/plain": [
              "<Figure size 432x288 with 1 Axes>"
            ]
          },
          "metadata": {
            "tags": [],
            "needs_background": "light"
          }
        }
      ]
    },
    {
      "cell_type": "code",
      "metadata": {
        "id": "fBBTHV1itj3K",
        "colab_type": "code",
        "colab": {
          "base_uri": "https://localhost:8080/",
          "height": 204
        },
        "outputId": "5964f377-518e-426b-eacd-3b219bc331e5"
      },
      "source": [
        "submission = pd.read_csv('data/sample_submission.csv')\n",
        "submission.head()"
      ],
      "execution_count": 67,
      "outputs": [
        {
          "output_type": "execute_result",
          "data": {
            "text/html": [
              "<div>\n",
              "<style scoped>\n",
              "    .dataframe tbody tr th:only-of-type {\n",
              "        vertical-align: middle;\n",
              "    }\n",
              "\n",
              "    .dataframe tbody tr th {\n",
              "        vertical-align: top;\n",
              "    }\n",
              "\n",
              "    .dataframe thead th {\n",
              "        text-align: right;\n",
              "    }\n",
              "</style>\n",
              "<table border=\"1\" class=\"dataframe\">\n",
              "  <thead>\n",
              "    <tr style=\"text-align: right;\">\n",
              "      <th></th>\n",
              "      <th>ID</th>\n",
              "      <th>item_cnt_month</th>\n",
              "    </tr>\n",
              "  </thead>\n",
              "  <tbody>\n",
              "    <tr>\n",
              "      <th>0</th>\n",
              "      <td>0</td>\n",
              "      <td>0.5</td>\n",
              "    </tr>\n",
              "    <tr>\n",
              "      <th>1</th>\n",
              "      <td>1</td>\n",
              "      <td>0.5</td>\n",
              "    </tr>\n",
              "    <tr>\n",
              "      <th>2</th>\n",
              "      <td>2</td>\n",
              "      <td>0.5</td>\n",
              "    </tr>\n",
              "    <tr>\n",
              "      <th>3</th>\n",
              "      <td>3</td>\n",
              "      <td>0.5</td>\n",
              "    </tr>\n",
              "    <tr>\n",
              "      <th>4</th>\n",
              "      <td>4</td>\n",
              "      <td>0.5</td>\n",
              "    </tr>\n",
              "  </tbody>\n",
              "</table>\n",
              "</div>"
            ],
            "text/plain": [
              "   ID  item_cnt_month\n",
              "0   0             0.5\n",
              "1   1             0.5\n",
              "2   2             0.5\n",
              "3   3             0.5\n",
              "4   4             0.5"
            ]
          },
          "metadata": {
            "tags": []
          },
          "execution_count": 67
        }
      ]
    },
    {
      "cell_type": "code",
      "metadata": {
        "id": "uW26DKLnt9x5",
        "colab_type": "code",
        "colab": {
          "base_uri": "https://localhost:8080/",
          "height": 34
        },
        "outputId": "664af663-afe8-49ec-d0fc-5d1c457760ea"
      },
      "source": [
        "op = pd.DataFrame(data=yhat,columns=['item_cnt_month'])\n",
        "op.index.name = 'ID'\n",
        "op.shape"
      ],
      "execution_count": 81,
      "outputs": [
        {
          "output_type": "execute_result",
          "data": {
            "text/plain": [
              "(428400, 1)"
            ]
          },
          "metadata": {
            "tags": []
          },
          "execution_count": 81
        }
      ]
    },
    {
      "cell_type": "code",
      "metadata": {
        "id": "YGVwIoCvuVFi",
        "colab_type": "code",
        "colab": {}
      },
      "source": [
        "op.to_csv('data/op.csv')"
      ],
      "execution_count": 0,
      "outputs": []
    },
    {
      "cell_type": "code",
      "metadata": {
        "id": "Ge-cw5UuurN9",
        "colab_type": "code",
        "colab": {
          "base_uri": "https://localhost:8080/",
          "height": 204
        },
        "outputId": "2845febb-b978-4d6e-8e82-8dd6e5f61720"
      },
      "source": [
        "ophat = pd.read_csv('data/op.csv')\n",
        "ophat.head()"
      ],
      "execution_count": 78,
      "outputs": [
        {
          "output_type": "execute_result",
          "data": {
            "text/html": [
              "<div>\n",
              "<style scoped>\n",
              "    .dataframe tbody tr th:only-of-type {\n",
              "        vertical-align: middle;\n",
              "    }\n",
              "\n",
              "    .dataframe tbody tr th {\n",
              "        vertical-align: top;\n",
              "    }\n",
              "\n",
              "    .dataframe thead th {\n",
              "        text-align: right;\n",
              "    }\n",
              "</style>\n",
              "<table border=\"1\" class=\"dataframe\">\n",
              "  <thead>\n",
              "    <tr style=\"text-align: right;\">\n",
              "      <th></th>\n",
              "      <th>ID</th>\n",
              "      <th>item_cnt_month</th>\n",
              "    </tr>\n",
              "  </thead>\n",
              "  <tbody>\n",
              "    <tr>\n",
              "      <th>0</th>\n",
              "      <td>0</td>\n",
              "      <td>0.173687</td>\n",
              "    </tr>\n",
              "    <tr>\n",
              "      <th>1</th>\n",
              "      <td>1</td>\n",
              "      <td>0.162968</td>\n",
              "    </tr>\n",
              "    <tr>\n",
              "      <th>2</th>\n",
              "      <td>2</td>\n",
              "      <td>0.587251</td>\n",
              "    </tr>\n",
              "    <tr>\n",
              "      <th>3</th>\n",
              "      <td>3</td>\n",
              "      <td>0.172155</td>\n",
              "    </tr>\n",
              "    <tr>\n",
              "      <th>4</th>\n",
              "      <td>4</td>\n",
              "      <td>0.162968</td>\n",
              "    </tr>\n",
              "  </tbody>\n",
              "</table>\n",
              "</div>"
            ],
            "text/plain": [
              "   ID  item_cnt_month\n",
              "0   0        0.173687\n",
              "1   1        0.162968\n",
              "2   2        0.587251\n",
              "3   3        0.172155\n",
              "4   4        0.162968"
            ]
          },
          "metadata": {
            "tags": []
          },
          "execution_count": 78
        }
      ]
    }
  ]
}